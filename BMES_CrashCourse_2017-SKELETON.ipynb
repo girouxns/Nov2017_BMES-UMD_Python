{
 "cells": [
  {
   "cell_type": "markdown",
   "metadata": {},
   "source": [
    "BMES@UMD Crash Course 11/18/17 - Python\n",
    "# Introduction to Programming with Python\n",
    "* Your instructors:\n",
    "  * Shannon Larson - BMES President\n",
    "  * Nick Giroux - AEMB VP for Academic Affairs\n",
    "* This Jupyter notebook is available here: [BMES-UMD Python Crash Course](https://github.com/girouxns/Nov2017_BMES-UMD_Python)\n",
    "* A significantly more comprehensive \"bootcamp\" style Jupyter notebook is available here: [National Institute on Aging Python Bootcamp by Chris Coletta](https://github.com/colettace/July2017_NIA_Python_Course)"
   ]
  },
  {
   "cell_type": "markdown",
   "metadata": {},
   "source": [
    "### What is Python?\n",
    "* A general-use programming language - it can perform calculations, work with text, and use a variety of data types\n",
    "* An object-oriented programming language - more on this later\n",
    "\n",
    "### What is Anaconda?\n",
    "* A distribution which includes several IDEs, python core language, and libraries of add-on functions\n",
    "  * An IDE (integrated development environment) is where you write and evaluate lines of code\n",
    "\n",
    "### Jupyter vs. Spyder\n",
    "* Jupyter: you're reading this using Jupyter right now\n",
    "  * Live code and text that is evaluated in cells, easily shared as a PDF\n",
    "* Spyder: Scientific PYthon Development EnviRonment\n",
    "  * Traditional scripts (like a Matlab M-file), easily evaluated multiple times\n",
    "\n",
    "### Using Jupyter Cells\n",
    "#### Command Mode - blue border\n",
    "* Activate command mode by pressing Esc\n",
    "* b - insert cell below; a - insert cell above\n",
    "* dd - delete cell\n",
    "#### Edit Mode - green border\n",
    "* Activate edit mode by double-clicking or pressing Enter\n",
    "* Shift+Enter - run and advance to next cell\n",
    "* Ctrl+Enter - run cell\n",
    "#### Code vs. Text Cells\n",
    "* Code cells contain executable lines of python\n",
    "* Text cells contain text (borders, lists, etc.) in Markdown\n",
    "\n",
    "### What can you do with python?\n",
    "* [Example: Nick's work on Alzheimer's Disease and mitochondrial DNA](https://github.com/girouxns/Nov2017_BMES-UMD_Python/blob/master/BMES_CrashCourse_2017_NickResearch.ipynb)\n",
    "* [Example: Bacterial growth curves](https://github.com/girouxns/Nov2017_BMES-UMD_Python/blob/master/bacterial_growth_curves.py)\n",
    "* [Example: Play hangman](https://github.com/girouxns/Nov2017_BMES-UMD_Python/blob/master/interactive_hangman.py)\n",
    "\n",
    "### How to get started\n",
    "* One statement per line (for the most part)\n",
    "* No semicolon needed at the end (like in Matlab)\n",
    "* Review assignment, scalar and iterable data types, and loops"
   ]
  },
  {
   "cell_type": "markdown",
   "metadata": {},
   "source": [
    "### Assignment\n",
    "* Assignment is performed using the equals sign (=)\n",
    "* Variable names go to the left of the equals sign and their values on the right\n",
    "* The value is saved to your computer's memory and can be recalled, manipulated, or passed to another variable"
   ]
  },
  {
   "cell_type": "code",
   "execution_count": null,
   "metadata": {
    "collapsed": true
   },
   "outputs": [],
   "source": [
    "my_variable = 5"
   ]
  },
  {
   "cell_type": "code",
   "execution_count": null,
   "metadata": {},
   "outputs": [],
   "source": [
    "my_variable"
   ]
  },
  {
   "cell_type": "code",
   "execution_count": null,
   "metadata": {
    "collapsed": true
   },
   "outputs": [],
   "source": [
    "my_new_variable = my_variable"
   ]
  },
  {
   "cell_type": "code",
   "execution_count": null,
   "metadata": {},
   "outputs": [],
   "source": [
    "my_new_variable"
   ]
  },
  {
   "cell_type": "code",
   "execution_count": null,
   "metadata": {
    "collapsed": true
   },
   "outputs": [],
   "source": [
    "my_variable = 'hello'"
   ]
  },
  {
   "cell_type": "code",
   "execution_count": null,
   "metadata": {},
   "outputs": [],
   "source": [
    "my_variable"
   ]
  },
  {
   "cell_type": "markdown",
   "metadata": {},
   "source": [
    "Try your own!"
   ]
  },
  {
   "cell_type": "code",
   "execution_count": null,
   "metadata": {
    "collapsed": true
   },
   "outputs": [],
   "source": []
  },
  {
   "cell_type": "code",
   "execution_count": null,
   "metadata": {
    "collapsed": true
   },
   "outputs": [],
   "source": []
  },
  {
   "cell_type": "markdown",
   "metadata": {},
   "source": [
    "### print() and basic operations\n",
    "* Typing the name of your variables will prompt Jupyter to print their string representation\n",
    "* Only your last variable will be printed without using print()"
   ]
  },
  {
   "cell_type": "code",
   "execution_count": null,
   "metadata": {
    "collapsed": true
   },
   "outputs": [],
   "source": [
    "x = 5\n",
    "y = 6"
   ]
  },
  {
   "cell_type": "code",
   "execution_count": null,
   "metadata": {},
   "outputs": [],
   "source": [
    "x\n",
    "y"
   ]
  },
  {
   "cell_type": "code",
   "execution_count": null,
   "metadata": {},
   "outputs": [],
   "source": [
    "print(x)\n",
    "print(y)"
   ]
  },
  {
   "cell_type": "code",
   "execution_count": null,
   "metadata": {},
   "outputs": [],
   "source": [
    "print(x*y)\n",
    "print(x+y)\n",
    "x = 1\n",
    "print(x*y)"
   ]
  },
  {
   "cell_type": "markdown",
   "metadata": {},
   "source": [
    "Pick `a` and `b` such that `a + b * (a/b) > 10`. Print out what that statement is."
   ]
  },
  {
   "cell_type": "code",
   "execution_count": null,
   "metadata": {
    "collapsed": true
   },
   "outputs": [],
   "source": []
  },
  {
   "cell_type": "markdown",
   "metadata": {},
   "source": [
    "### Data Types in Python\n",
    "* Different data means different types (numbers vs. words, for example)\n",
    "* Classified as scalars or iterables"
   ]
  },
  {
   "cell_type": "markdown",
   "metadata": {},
   "source": [
    "#### Integer (scalar)\n",
    "* A counting number"
   ]
  },
  {
   "cell_type": "code",
   "execution_count": null,
   "metadata": {},
   "outputs": [],
   "source": []
  },
  {
   "cell_type": "code",
   "execution_count": null,
   "metadata": {},
   "outputs": [],
   "source": [
    "type()"
   ]
  },
  {
   "cell_type": "markdown",
   "metadata": {},
   "source": [
    "#### Float (scalar)\n",
    "* A decimal"
   ]
  },
  {
   "cell_type": "code",
   "execution_count": null,
   "metadata": {},
   "outputs": [],
   "source": []
  },
  {
   "cell_type": "code",
   "execution_count": null,
   "metadata": {},
   "outputs": [],
   "source": []
  },
  {
   "cell_type": "code",
   "execution_count": null,
   "metadata": {},
   "outputs": [],
   "source": [
    "type()"
   ]
  },
  {
   "cell_type": "markdown",
   "metadata": {},
   "source": [
    "#### Boolean (scalar)\n",
    "* True or False; use logical operators (and, or, not)"
   ]
  },
  {
   "cell_type": "code",
   "execution_count": null,
   "metadata": {},
   "outputs": [],
   "source": []
  },
  {
   "cell_type": "code",
   "execution_count": null,
   "metadata": {},
   "outputs": [],
   "source": [
    "or"
   ]
  },
  {
   "cell_type": "code",
   "execution_count": null,
   "metadata": {},
   "outputs": [],
   "source": [
    "not"
   ]
  },
  {
   "cell_type": "markdown",
   "metadata": {},
   "source": [
    "#### String (iterable)\n",
    "* Multiple characters within quotation marks (single or double is fine)"
   ]
  },
  {
   "cell_type": "code",
   "execution_count": null,
   "metadata": {
    "scrolled": true
   },
   "outputs": [],
   "source": []
  },
  {
   "cell_type": "code",
   "execution_count": null,
   "metadata": {},
   "outputs": [],
   "source": [
    "=="
   ]
  },
  {
   "cell_type": "code",
   "execution_count": null,
   "metadata": {},
   "outputs": [],
   "source": []
  },
  {
   "cell_type": "markdown",
   "metadata": {},
   "source": [
    "#### List (iterable)\n",
    "* A collection of values (may be of mixed types)"
   ]
  },
  {
   "cell_type": "code",
   "execution_count": null,
   "metadata": {},
   "outputs": [],
   "source": [
    "list1 = ['a', 'b', 'c']\n",
    "print(list1)"
   ]
  },
  {
   "cell_type": "code",
   "execution_count": null,
   "metadata": {},
   "outputs": [],
   "source": []
  },
  {
   "cell_type": "code",
   "execution_count": null,
   "metadata": {},
   "outputs": [],
   "source": [
    "list()"
   ]
  },
  {
   "cell_type": "markdown",
   "metadata": {},
   "source": [
    "#### Access i-th list element using [ i ]\n",
    "* Note: indexing is 0-based"
   ]
  },
  {
   "cell_type": "code",
   "execution_count": null,
   "metadata": {
    "scrolled": true
   },
   "outputs": [],
   "source": [
    "print(list1)\n",
    "print(list1[0])"
   ]
  },
  {
   "cell_type": "markdown",
   "metadata": {},
   "source": [
    "Given `list3` print the largest value."
   ]
  },
  {
   "cell_type": "code",
   "execution_count": null,
   "metadata": {
    "collapsed": true
   },
   "outputs": [],
   "source": [
    "list3 = [15, 3, 100, 1.5]"
   ]
  },
  {
   "cell_type": "code",
   "execution_count": null,
   "metadata": {
    "collapsed": true
   },
   "outputs": [],
   "source": [
    "print()"
   ]
  },
  {
   "cell_type": "markdown",
   "metadata": {},
   "source": [
    "### Iteration, Conditionals, and Loops\n",
    "* Iterable data types can be \"looped\" through or over\n",
    "* Conditional \"if\" statements evaluate as booleans\n",
    "* Two important loops: for and while"
   ]
  },
  {
   "cell_type": "markdown",
   "metadata": {},
   "source": [
    "#### For loop using a list"
   ]
  },
  {
   "cell_type": "code",
   "execution_count": null,
   "metadata": {},
   "outputs": [],
   "source": [
    "months = ['January', 'February', 'March', 'April', 'May', 'June']\n",
    "print(months)\n",
    "print(type(months))"
   ]
  },
  {
   "cell_type": "code",
   "execution_count": null,
   "metadata": {},
   "outputs": [],
   "source": [
    "for month in months:\n",
    "    print(month)"
   ]
  },
  {
   "cell_type": "code",
   "execution_count": null,
   "metadata": {},
   "outputs": [],
   "source": [
    "counter = 0\n",
    "while counter < 10:\n",
    "    print(counter)\n",
    "    counter += 1"
   ]
  },
  {
   "cell_type": "code",
   "execution_count": null,
   "metadata": {},
   "outputs": [],
   "source": [
    "for month in months:\n",
    "    if month[0] == 'M':\n",
    "        print(month)"
   ]
  },
  {
   "cell_type": "markdown",
   "metadata": {},
   "source": [
    "If you had to print only the even numbers between 0 and 10, how would you do it with a `for` loop? Hint: look at the `counter` example."
   ]
  },
  {
   "cell_type": "code",
   "execution_count": null,
   "metadata": {
    "collapsed": true
   },
   "outputs": [],
   "source": []
  },
  {
   "cell_type": "markdown",
   "metadata": {},
   "source": [
    "## Code Skeleton 1: Finding the volume of a sphere\n",
    "* Hint: $volume = \\frac{4}{3} * pi * r^2$"
   ]
  },
  {
   "cell_type": "code",
   "execution_count": null,
   "metadata": {},
   "outputs": [],
   "source": [
    "radius = \n",
    "pi = \n",
    "volume = \n",
    "print(volume)"
   ]
  },
  {
   "cell_type": "markdown",
   "metadata": {},
   "source": [
    "## Code Skeleton 2: Student grades\n",
    "* Print the failing (<70) grades and names of students with names that begin with 'A' or 'M'\n",
    "* Given two lists: one with student first names, the other with corresponding grades"
   ]
  },
  {
   "cell_type": "code",
   "execution_count": null,
   "metadata": {
    "collapsed": true
   },
   "outputs": [],
   "source": [
    "names = ['Abigail', 'Adele', 'AK', 'Alex', 'Anne', 'Bob', 'Caroll', 'Devin', 'Mary', 'Melvin', 'Michael', 'Mike', 'Tyler']\n",
    "grades = [65, 80, 91, 45, 95, 32, 100, 67, 70, 85, 0, 67, 99]"
   ]
  },
  {
   "cell_type": "code",
   "execution_count": null,
   "metadata": {},
   "outputs": [],
   "source": [
    "counter = 0\n",
    "for :\n",
    "    if == 'A' or  == 'M':\n",
    "        if  < 70:\n",
    "            print( + '\\t' + str(grades[counter])) # hint: you need to print their name, too!\n",
    "    counter += 1"
   ]
  }
 ],
 "metadata": {
  "kernelspec": {
   "display_name": "Python 3",
   "language": "python",
   "name": "python3"
  },
  "language_info": {
   "codemirror_mode": {
    "name": "ipython",
    "version": 3
   },
   "file_extension": ".py",
   "mimetype": "text/x-python",
   "name": "python",
   "nbconvert_exporter": "python",
   "pygments_lexer": "ipython3",
   "version": "3.6.1"
  }
 },
 "nbformat": 4,
 "nbformat_minor": 2
}
